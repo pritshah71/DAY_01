{
 "cells": [
  {
   "cell_type": "code",
   "execution_count": 1,
   "id": "27c5c150",
   "metadata": {
    "id": "7c0dd8d6"
   },
   "outputs": [
    {
     "ename": "SyntaxError",
     "evalue": "invalid syntax (4219591069.py, line 1)",
     "output_type": "error",
     "traceback": [
      "\u001b[0;36m  Cell \u001b[0;32mIn[1], line 1\u001b[0;36m\u001b[0m\n\u001b[0;31m    <h1> Introduction to Jupyter Notebooks </h1>\u001b[0m\n\u001b[0m    ^\u001b[0m\n\u001b[0;31mSyntaxError\u001b[0m\u001b[0;31m:\u001b[0m invalid syntax\n"
     ]
    }
   ],
   "source": [
    "<h1> Introduction to Jupyter Notebooks </h1>"
   ]
  },
  {
   "cell_type": "markdown",
   "id": "KLiOv05-tcm7",
   "metadata": {
    "id": "KLiOv05-tcm7"
   },
   "source": [
    "This notebook is composed of many *chunks*, containing either python code or formatted text.  In this activity you will practice both.  Make sure to always run each code chunk once as you work past it."
   ]
  },
  {
   "cell_type": "markdown",
   "id": "kZcVtNnqtHRU",
   "metadata": {
    "id": "kZcVtNnqtHRU"
   },
   "source": [
    "*Get in a group of 3-4 people.  You should each fill out your own copy of this notebook.*"
   ]
  },
  {
   "cell_type": "code",
   "execution_count": 5,
   "id": "libraries-py",
   "metadata": {
    "id": "libraries-py"
   },
   "outputs": [],
   "source": [
    "#| label: libraries-py\n",
    "#| include: false\n",
    "import matplotlib.pyplot as plt"
   ]
  },
  {
   "cell_type": "markdown",
   "id": "89613630",
   "metadata": {
    "id": "89613630"
   },
   "source": [
    "1.  Write the names of your group members below, as a bullet point list.\n",
    "\n",
    "2.  Find something that all of you enjoy for fun. Insert a related picture or meme below.\n",
    "\n",
    "3.  Everyone decide your comfort level on a scale of 1-10 in python, and your favorite colors from [this](https://matplotlib.org/stable/gallery/color/named_colors.html) list.\n",
    "\n",
    "Edit the code below so that it has your names and corresponding comfort levels."
   ]
  },
  {
   "cell_type": "code",
   "execution_count": 6,
   "id": "group_info-py",
   "metadata": {
    "id": "group_info-py"
   },
   "outputs": [],
   "source": [
    "#| label: group_info-py\n",
    "group_data = {\n",
    "  'names': [\"Jake\", \"Viswa\", \"Nirbhay\", \"Prit\"],\n",
    "  'colors': [\"Blue\", \"Pink\", \"Green\", \"Cyan\"],\n",
    "  'comfort': [9, 8, 10, 5]\n",
    "  }"
   ]
  },
  {
   "cell_type": "markdown",
   "id": "f8ac1475",
   "metadata": {
    "id": "f8ac1475"
   },
   "source": [
    "4.  Click \"Run\" on the code chunk below and see the plot that is produced.\n",
    "\n",
    "(Do not edit the code below!)"
   ]
  },
  {
   "cell_type": "code",
   "execution_count": 7,
   "id": "plot-py",
   "metadata": {
    "colab": {
     "base_uri": "https://localhost:8080/",
     "height": 430
    },
    "id": "plot-py",
    "outputId": "e0b25b2b-ecb7-4f5b-a12c-5c069601d86b"
   },
   "outputs": [
    {
     "data": {
      "image/png": "[encoded data removed]",
      "text/plain": [
       "<Figure size 640x480 with 1 Axes>"
      ]
     },
     "metadata": {},
     "output_type": "display_data"
    }
   ],
   "source": [
    "#| label: plot-py\n",
    "#| fig-cap: Our comfort levels with python\n",
    "\n",
    "plt.bar(x = group_data['names'], height = group_data['comfort'], color = group_data['colors'])\n",
    "plt.ylabel(\"Comfort with python\")\n",
    "plt.show()"
   ]
  },
  {
   "cell_type": "code",
   "execution_count": null,
   "id": "423d612f",
   "metadata": {},
   "outputs": [],
   "source": []
  }
 ],
 "metadata": {
  "colab": {
   "provenance": []
  },
  "kernelspec": {
   "display_name": "Python 3 (ipykernel)",
   "language": "python",
   "name": "python3"
  },
  "language_info": {
   "codemirror_mode": {
    "name": "ipython",
    "version": 3
   },
   "file_extension": ".py",
   "mimetype": "text/x-python",
   "name": "python",
   "nbconvert_exporter": "python",
   "pygments_lexer": "ipython3",
   "version": "3.11.4"
  }
 },
 "nbformat": 4,
 "nbformat_minor": 5
}
